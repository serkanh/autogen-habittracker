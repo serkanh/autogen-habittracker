{
 "cells": [
  {
   "cell_type": "code",
   "execution_count": 6,
   "metadata": {},
   "outputs": [],
   "source": [
    "import base64\n",
    "import requests\n",
    "import os\n"
   ]
  },
  {
   "cell_type": "code",
   "execution_count": 7,
   "metadata": {},
   "outputs": [],
   "source": [
    "# OpenAI API Key\n",
    "api_key = os.getenv(\"OPENAI_API_KEY\")\n"
   ]
  },
  {
   "cell_type": "code",
   "execution_count": 8,
   "metadata": {},
   "outputs": [],
   "source": [
    "# Function to encode the image\n",
    "def encode_image(image_path):\n",
    "  with open(image_path, \"rb\") as image_file:\n",
    "    return base64.b64encode(image_file.read()).decode('utf-8')\n",
    "\n",
    "# Path to your image\n",
    "image_path = \"/Users/serkanhaytac/experimental-projects/autogen-habittracker/app_screenshot.jpg\"\n",
    "\n",
    "# Getting the base64 string\n",
    "base64_image = encode_image(image_path)\n",
    "\n",
    "headers = {\n",
    "  \"Content-Type\": \"application/json\",\n",
    "  \"Authorization\": f\"Bearer {api_key}\"\n",
    "}\n",
    "\n",
    "payload = {\n",
    "  \"model\": \"gpt-4-vision-preview\",\n",
    "  \"messages\": [\n",
    "    {\n",
    "      \"role\": \"user\",\n",
    "      \"content\": [\n",
    "        {\n",
    "          \"type\": \"text\",\n",
    "          \"text\": \"What’s in this image?\"\n",
    "        },\n",
    "        {\n",
    "          \"type\": \"image_url\",\n",
    "          \"image_url\": {\n",
    "            \"url\": f\"data:image/jpeg;base64,{base64_image}\"\n",
    "          }\n",
    "        }\n",
    "      ]\n",
    "    }\n",
    "  ],\n",
    "  \"max_tokens\": 300\n",
    "}\n"
   ]
  },
  {
   "cell_type": "markdown",
   "metadata": {},
   "source": []
  },
  {
   "cell_type": "code",
   "execution_count": 9,
   "metadata": {},
   "outputs": [
    {
     "name": "stdout",
     "output_type": "stream",
     "text": [
      "{'id': 'chatcmpl-8MH6yWXpqsoX7jyJQmWomqKwnpwCR', 'object': 'chat.completion', 'created': 1700319684, 'model': 'gpt-4-1106-vision-preview', 'usage': {'prompt_tokens': 1118, 'completion_tokens': 300, 'total_tokens': 1418}, 'choices': [{'message': {'role': 'assistant', 'content': 'This image shows a screenshot of a habit tracking or health app interface displaying a user\\'s daily goals and progress. At the top of the screen, there is a weekly calendar with days from Wednesday to Tuesday, showing that it is currently Tuesday. Below the calendar, there are several health-related activities listed, each with a progress bar or a completed indicator:\\n\\n1. Drink water - 2450/3000 ml (with a flame icon indicating a 219-day streak)\\n2. Yoga - 25min/30min (with the same flame icon for the streak)\\n3. Drink Less Beverage - Zero out of one allowed drink (indicated by a flame icon for a 220-day streak)\\n4. Eat Breakfast - Completed one out of one (with a flame icon for the streak)\\n5. Walk - Completed 10,000 out of 10,000 steps (with a flame icon for a 220-day streak)\\n6. Run - Completed one hour out of one hour (with a flame icon for the streak)\\n7. Meditation - Completed 30 minutes out of 30 minutes (with a flame icon for the streak)\\n\\nThere is an \"All\" tab selected, presumably to display all the habits the user is tracking. Icons for adding a new habit or activity and other app navigation elements are visible at the bottom of the interface. The design is simple with pastel colors, and each activity is accompanied by a relevant emoji or icon. The ongoing streaks indicate consistency in the'}, 'finish_details': {'type': 'max_tokens'}, 'index': 0}]}\n"
     ]
    }
   ],
   "source": [
    "\n",
    "response = requests.post(\"https://api.openai.com/v1/chat/completions\", headers=headers, json=payload)\n",
    "\n",
    "print(response.json())\n"
   ]
  },
  {
   "cell_type": "code",
   "execution_count": null,
   "metadata": {},
   "outputs": [],
   "source": []
  }
 ],
 "metadata": {
  "kernelspec": {
   "display_name": "Python 3 (ipykernel)",
   "language": "python",
   "name": "python3"
  },
  "language_info": {
   "codemirror_mode": {
    "name": "ipython",
    "version": 3
   },
   "file_extension": ".py",
   "mimetype": "text/x-python",
   "name": "python",
   "nbconvert_exporter": "python",
   "pygments_lexer": "ipython3",
   "version": "3.11.6"
  }
 },
 "nbformat": 4,
 "nbformat_minor": 4
}
