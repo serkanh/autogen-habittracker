{
 "cells": [
  {
   "cell_type": "code",
   "execution_count": 1,
   "metadata": {},
   "outputs": [],
   "source": [
    "import base64\n",
    "import requests\n",
    "import os\n",
    "import autogen\n",
    "import pprint\n"
   ]
  },
  {
   "cell_type": "markdown",
   "metadata": {},
   "source": []
  },
  {
   "cell_type": "code",
   "execution_count": 2,
   "metadata": {},
   "outputs": [
    {
     "name": "stdout",
     "output_type": "stream",
     "text": [
      "['Agent', 'AssistantAgent', 'ChatCompletion', 'Completion', 'ConversableAgent', 'DEFAULT_MODEL', 'FAST_MODEL', 'GroupChat', 'GroupChatManager', 'UserProxyAgent', '__builtins__', '__cached__', '__doc__', '__file__', '__loader__', '__name__', '__package__', '__path__', '__spec__', '__version__', 'agentchat', 'code_utils', 'config_list_from_dotenv', 'config_list_from_json', 'config_list_from_models', 'config_list_gpt4_gpt35', 'config_list_openai_aoai', 'get_config_list', 'logger', 'logging', 'oai', 'version']\n",
      "/Users/serkanhaytac/experimental-projects/autogen-habittracker/venv/lib/python3.11/site-packages/autogen/__init__.py\n"
     ]
    }
   ],
   "source": [
    "print(dir(autogen))\n",
    "print(autogen.__file__)\n"
   ]
  },
  {
   "cell_type": "code",
   "execution_count": 3,
   "metadata": {},
   "outputs": [
    {
     "name": "stdout",
     "output_type": "stream",
     "text": [
      "[]\n"
     ]
    }
   ],
   "source": [
    "config_list_gpt4 = autogen.config_list_from_json(\n",
    "    \"OAI_CONFIG_LIST\",\n",
    "    filter_dict={\n",
    "        \"model\": [\"gpt-4\", \"gpt-4-0314\", \"gpt4\", \"gpt-4-32k\", \"gpt-4-32k-0314\", \"gpt-4-32k-v0314\"],\n",
    "    },\n",
    ")\n",
    "print(config_list_gpt4)\n"
   ]
  },
  {
   "cell_type": "code",
   "execution_count": 4,
   "metadata": {},
   "outputs": [],
   "source": [
    "# OpenAI API Key\n",
    "api_key = os.getenv(\"OPENAI_API_KEY\")\n"
   ]
  },
  {
   "cell_type": "code",
   "execution_count": 5,
   "metadata": {},
   "outputs": [],
   "source": [
    "# Function to encode the image\n",
    "def encode_image(image_path):\n",
    "  with open(image_path, \"rb\") as image_file:\n",
    "    return base64.b64encode(image_file.read()).decode('utf-8')\n",
    "\n",
    "# Path to your image\n",
    "def encode_image_to_base64(image_path):\n",
    "    # This function reads the image file and converts it to a base64 string\n",
    "    with open(image_path, \"rb\") as image_file:\n",
    "        encoded_string = base64.b64encode(image_file.read()).decode()\n",
    "    return encoded_string\n",
    "\n",
    "def send_image_to_api(image_path):\n",
    "    # Encode the image to base64\n",
    "    base64_image = encode_image_to_base64(image_path)\n",
    "  \n",
    "\n",
    "    # Prepare headers\n",
    "    headers = {\n",
    "      \"Content-Type\": \"application/json\",\n",
    "      \"Authorization\": f\"Bearer {api_key}\"\n",
    "    }\n",
    "\n",
    "    # Prepare payload\n",
    "    payload = {\n",
    "      \"model\": \"gpt-4-vision-preview\",\n",
    "      \"messages\": [\n",
    "        {\n",
    "          \"role\": \"user\",\n",
    "          \"content\": [\n",
    "            {\n",
    "              \"type\": \"image_url\",\n",
    "              \"image_url\": {\n",
    "                \"url\": f\"data:image/jpeg;base64,{base64_image}\"\n",
    "              }\n",
    "            }\n",
    "          ]\n",
    "        }\n",
    "      ],\n",
    "      \"max_tokens\": 1000\n",
    "    }\n",
    "\n",
    "    # Send the request\n",
    "    response = requests.post(\"https://api.openai.com/v1/chat/completions\", headers=headers, json=payload)\n",
    "    return pprint.pprint(response.json())\n"
   ]
  },
  {
   "cell_type": "code",
   "execution_count": 9,
   "metadata": {},
   "outputs": [],
   "source": [
    "\n",
    "\n",
    "llm_config = {\n",
    "    \"config_list\": config_list_gpt4,\n",
    "    \"seed\": 4,\n",
    "    \"temperature\": 0,\n",
    "    \"functions\": [\n",
    "        {\n",
    "            \"name\": \"send_image_to_api\",\n",
    "            \"description\": \"Gets image path and sends it to the API.\",\n",
    "            \"parameters\": {\n",
    "                \"type\": \"object\",\n",
    "                \"properties\": {\n",
    "                    \"image_path\": {\n",
    "                        \"type\": \"string\",\n",
    "                        \"description\": \"Valid path.\",\n",
    "                    }\n",
    "                },\n",
    "                \"required\": [\"image_path\"],\n",
    "            },\n",
    "        }\n",
    "    ]\n",
    "}\n",
    "coder = autogen.AssistantAgent(\n",
    "    name=\"Assistant\",  # the default assistant agent is capable of solving problems with code\n",
    "    system_message=\"\"\"You are a react native developer and you are working on creating a new react native app \"\"\",\n",
    "    llm_config=llm_config,\n",
    ")\n",
    "user_proxy = autogen.UserProxyAgent(\n",
    "   name=\"user_proxy\",\n",
    "   is_termination_msg=lambda x: x.get(\"content\", \"\") and x.get(\"content\", \"\").rstrip().endswith(\"TERMINATE\"),\n",
    "   human_input_mode=\"NEVER\",\n",
    "   system_message=\"\"\"Reply TERMINATE if the task has been solved at full satisfaction.\n",
    "   Otherwise, reply CONTINUE, or the why the task is not solved yet\"\"\",\n",
    "   code_execution_config={\"last_n_messages\": 3, \"work_dir\": \"groupchat\"},\n",
    "   llm_config=llm_config,\n",
    ")\n",
    "\n",
    "user_proxy.register_function(function_map={\n",
    "    \"send_image_to_api\": send_image_to_api\n",
    "})\n"
   ]
  },
  {
   "cell_type": "code",
   "execution_count": 16,
   "metadata": {},
   "outputs": [
    {
     "name": "stdout",
     "output_type": "stream",
     "text": [
      "\u001b[33muser_proxy\u001b[0m (to chat_manager):\n",
      "\n",
      "Upload /Users/serkanhaytac/experimental-projects/autogen-habittracker/app_screenshot.jpg\n",
      "image using send_image_to_api registered function. Once image is uploaded, come up with a plan to create a habit tracker app.\n",
      "App should be react native app that has the ability to keep track of habits. Start building the app\n",
      "\n",
      "--------------------------------------------------------------------------------\n"
     ]
    },
    {
     "name": "stderr",
     "output_type": "stream",
     "text": [
      "GroupChat is underpopulated with 2 agents. Direct communication would be more efficient.\n"
     ]
    },
    {
     "name": "stdout",
     "output_type": "stream",
     "text": [
      "[autogen.oai.completion: 11-18 13:13:02] {788} WARNING - Completion was provided with a config_list, but the list was empty. Adopting default OpenAI behavior, which reads from the 'model' parameter instead.\n",
      "[autogen.oai.completion: 11-18 13:13:02] {788} WARNING - Completion was provided with a config_list, but the list was empty. Adopting default OpenAI behavior, which reads from the 'model' parameter instead.\n",
      "\u001b[33mAssistant\u001b[0m (to chat_manager):\n",
      "\n",
      "\u001b[32m***** Suggested function Call: send_image_to_api *****\u001b[0m\n",
      "Arguments: \n",
      "{\n",
      "  \"image_path\": \"/Users/serkanhaytac/experimental-projects/autogen-habittracker/app_screenshot.jpg\"\n",
      "}\n",
      "\u001b[32m******************************************************\u001b[0m\n",
      "\n",
      "--------------------------------------------------------------------------------\n",
      "\u001b[35m\n",
      ">>>>>>>> EXECUTING FUNCTION send_image_to_api...\u001b[0m\n",
      "{'choices': [{'finish_details': {'stop': '<|fim_suffix|>', 'type': 'stop'},\n",
      "              'index': 0,\n",
      "              'message': {'content': 'This appears to be a screenshot of a '\n",
      "                                     'habit tracking or daily goal app on a '\n",
      "                                     'smartphone. The app is designed to help '\n",
      "                                     'users maintain healthy habits by '\n",
      "                                     'tracking their progress on various '\n",
      "                                     'activities throughout the week. Here are '\n",
      "                                     'the details of the habits being tracked '\n",
      "                                     'and the user\\'s progress for \"Today\":\\n'\n",
      "                                     '\\n'\n",
      "                                     '1. Drink water: The goal is to drink '\n",
      "                                     '3000 ml of water, and the user has '\n",
      "                                     'consumed 2450 ml.\\n'\n",
      "                                     '2. Yoga: The user aims to do 30 minutes '\n",
      "                                     'of yoga, and has completed 25 minutes.\\n'\n",
      "                                     '3. Drink Less Beverage: The user has a '\n",
      "                                     'goal of limiting themselves to no more '\n",
      "                                     'than one beverage, and it seems they '\n",
      "                                     'have not had any yet.\\n'\n",
      "                                     '4. Eat Breakfast: The user has eaten '\n",
      "                                     'breakfast, marking 1/1 for the goal.\\n'\n",
      "                                     '5. Walk: The goal of 10,000 steps has '\n",
      "                                     'been achieved.\\n'\n",
      "                                     '6. Run: The user has completed their '\n",
      "                                     'running goal of 1 hour.\\n'\n",
      "                                     '7. Meditation: The goal of 30 minutes of '\n",
      "                                     'meditation has been met.\\n'\n",
      "                                     '\\n'\n",
      "                                     'The flames icon next to some activities '\n",
      "                                     'indicates a streak—in this case, the '\n",
      "                                     'user has maintained their habits for '\n",
      "                                     'several days consecutively (e.g., 219 '\n",
      "                                     'days for drinking water).\\n'\n",
      "                                     '\\n'\n",
      "                                     'Other features include navigation '\n",
      "                                     'buttons at the bottom, a plus icon '\n",
      "                                     'probably to add a new habit, a calendar '\n",
      "                                     'at the top for tracking weekly progress, '\n",
      "                                     'and a network signal and battery '\n",
      "                                     'indicator suggesting this is an iOS '\n",
      "                                     'device.',\n",
      "                          'role': 'assistant'}}],\n",
      " 'created': 1700331183,\n",
      " 'id': 'chatcmpl-8MK6R2v0Ia6JEA0pwPaEP2KlyKi90',\n",
      " 'model': 'gpt-4-1106-vision-preview',\n",
      " 'object': 'chat.completion',\n",
      " 'usage': {'completion_tokens': 285,\n",
      "           'prompt_tokens': 1112,\n",
      "           'total_tokens': 1397}}\n",
      "\u001b[33muser_proxy\u001b[0m (to chat_manager):\n",
      "\n",
      "\u001b[32m***** Response from calling function \"send_image_to_api\" *****\u001b[0m\n",
      "None\n",
      "\u001b[32m**************************************************************\u001b[0m\n",
      "\n",
      "--------------------------------------------------------------------------------\n"
     ]
    },
    {
     "name": "stderr",
     "output_type": "stream",
     "text": [
      "GroupChat is underpopulated with 2 agents. Direct communication would be more efficient.\n"
     ]
    },
    {
     "name": "stdout",
     "output_type": "stream",
     "text": [
      "[autogen.oai.completion: 11-18 13:13:09] {788} WARNING - Completion was provided with a config_list, but the list was empty. Adopting default OpenAI behavior, which reads from the 'model' parameter instead.\n",
      "[autogen.oai.completion: 11-18 13:13:10] {788} WARNING - Completion was provided with a config_list, but the list was empty. Adopting default OpenAI behavior, which reads from the 'model' parameter instead.\n",
      "\u001b[33mAssistant\u001b[0m (to chat_manager):\n",
      "\n",
      "Great, the image has been uploaded successfully. Now, let's plan for the habit tracker app.\n",
      "\n",
      "The app will have the following features:\n",
      "\n",
      "1. **User Authentication**: Users will be able to register and login to their accounts. This will allow them to have a personalized experience and keep track of their habits.\n",
      "\n",
      "2. **Habit Creation**: Users will be able to create new habits. They will provide the name of the habit, the frequency (daily, weekly, etc.), and optionally a reminder time.\n",
      "\n",
      "3. **Habit Tracking**: Users will be able to mark their habits as done for each day. They will also be able to see their progress over time in a visual format, such as a calendar or a streak counter.\n",
      "\n",
      "4. **Notifications**: If a user sets a reminder for a habit, they will receive a notification at the specified time.\n",
      "\n",
      "5. **Data Persistence**: The data will be stored locally on the device, and also synced to a server to allow for data recovery and cross-device syncing.\n",
      "\n",
      "To start building the app, we will follow these steps:\n",
      "\n",
      "1. **Setup the project**: Create a new React Native project and setup the necessary dependencies such as react-navigation, react-native-paper (for Material Design components), and react-native-push-notification (for local notifications).\n",
      "\n",
      "2. **Build the Authentication system**: Use Firebase Authentication for managing user accounts. Create the necessary screens for registration and login.\n",
      "\n",
      "3. **Design the Database Schema**: Plan the structure of the data to be stored. This will include user data, habits, and progress.\n",
      "\n",
      "4. **Implement Habit Creation and Tracking**: Create the UI for adding new habits and marking them as done. Implement the logic for tracking progress.\n",
      "\n",
      "5. **Implement Notifications**: Use the react-native-push-notification library to schedule notifications.\n",
      "\n",
      "6. **Test the App**: Finally, thoroughly test the app to ensure everything is working as expected.\n",
      "\n",
      "Let's start with the project setup.\n",
      "\n",
      "--------------------------------------------------------------------------------\n"
     ]
    },
    {
     "name": "stderr",
     "output_type": "stream",
     "text": [
      "GroupChat is underpopulated with 2 agents. Direct communication would be more efficient.\n"
     ]
    },
    {
     "name": "stdout",
     "output_type": "stream",
     "text": [
      "[autogen.oai.completion: 11-18 13:13:35] {788} WARNING - Completion was provided with a config_list, but the list was empty. Adopting default OpenAI behavior, which reads from the 'model' parameter instead.\n",
      "[autogen.oai.completion: 11-18 13:13:36] {788} WARNING - Completion was provided with a config_list, but the list was empty. Adopting default OpenAI behavior, which reads from the 'model' parameter instead.\n",
      "\u001b[33muser_proxy\u001b[0m (to chat_manager):\n",
      "\n",
      "CONTINUE\n",
      "\n",
      "--------------------------------------------------------------------------------\n"
     ]
    },
    {
     "name": "stderr",
     "output_type": "stream",
     "text": [
      "GroupChat is underpopulated with 2 agents. Direct communication would be more efficient.\n"
     ]
    },
    {
     "name": "stdout",
     "output_type": "stream",
     "text": [
      "[autogen.oai.completion: 11-18 13:13:38] {788} WARNING - Completion was provided with a config_list, but the list was empty. Adopting default OpenAI behavior, which reads from the 'model' parameter instead.\n",
      "[autogen.oai.completion: 11-18 13:13:39] {788} WARNING - Completion was provided with a config_list, but the list was empty. Adopting default OpenAI behavior, which reads from the 'model' parameter instead.\n",
      "\u001b[33mAssistant\u001b[0m (to chat_manager):\n",
      "\n",
      "Alright, let's start setting up the project.\n",
      "\n",
      "1. **Initialize the project**: First, we need to initialize a new React Native project. You can do this by running the following command in your terminal:\n",
      "\n",
      "```bash\n",
      "npx react-native init HabitTracker\n",
      "```\n",
      "\n",
      "2. **Install dependencies**: After the project has been initialized, navigate into the project directory and install the necessary dependencies. Here are the commands to install them:\n",
      "\n",
      "```bash\n",
      "cd HabitTracker\n",
      "\n",
      "# Install react-navigation\n",
      "npm install @react-navigation/native @react-navigation/stack\n",
      "\n",
      "# Install react-native-paper for Material Design components\n",
      "npm install react-native-paper\n",
      "\n",
      "# Install react-native-push-notification for local notifications\n",
      "npm install react-native-push-notification\n",
      "```\n",
      "\n",
      "3. **Setup Firebase**: We will be using Firebase for user authentication and data storage. To set it up, first install the Firebase SDK by running:\n",
      "\n",
      "```bash\n",
      "npm install firebase\n",
      "```\n",
      "\n",
      "Then, you need to create a new Firebase project from the Firebase console and get your configuration details. These details should be added to your project as follows:\n",
      "\n",
      "```javascript\n",
      "import * as firebase from 'firebase';\n",
      "\n",
      "const firebaseConfig = {\n",
      "  apiKey: \"YOUR_API_KEY\",\n",
      "  authDomain: \"YOUR_AUTH_DOMAIN\",\n",
      "  databaseURL: \"YOUR_DATABASE_URL\",\n",
      "  projectId: \"YOUR_PROJECT_ID\",\n",
      "  storageBucket: \"YOUR_STORAGE_BUCKET\",\n",
      "  messagingSenderId: \"YOUR_MESSAGING_SENDER_ID\",\n",
      "  appId: \"YOUR_APP_ID\"\n",
      "};\n",
      "\n",
      "firebase.initializeApp(firebaseConfig);\n",
      "```\n",
      "\n",
      "4. **Create the directory structure**: Plan and create the directory structure for your project. A possible structure could be:\n",
      "\n",
      "- src\n",
      "  - components\n",
      "  - screens\n",
      "  - services\n",
      "  - utils\n",
      "\n",
      "5. **Start building the screens**: You can now start building the screens for your app. You can start with the authentication screens (Register and Login) and then move on to the main screens (Habit List, Add Habit, etc.).\n",
      "\n",
      "Remember to commit your changes regularly and push them to a remote repository for safekeeping. Happy coding!\n",
      "\n",
      "--------------------------------------------------------------------------------\n"
     ]
    },
    {
     "name": "stderr",
     "output_type": "stream",
     "text": [
      "GroupChat is underpopulated with 2 agents. Direct communication would be more efficient.\n"
     ]
    },
    {
     "name": "stdout",
     "output_type": "stream",
     "text": [
      "[autogen.oai.completion: 11-18 13:14:09] {788} WARNING - Completion was provided with a config_list, but the list was empty. Adopting default OpenAI behavior, which reads from the 'model' parameter instead.\n",
      "\u001b[31m\n",
      ">>>>>>>> EXECUTING CODE BLOCK 0 (inferred language is bash)...\u001b[0m\n"
     ]
    },
    {
     "name": "stderr",
     "output_type": "stream",
     "text": [
      "execute_code was called without specifying a value for use_docker. Since the python docker package is not available, code will be run natively. Note: this fallback behavior is subject to change\n"
     ]
    },
    {
     "name": "stdout",
     "output_type": "stream",
     "text": [
      "\u001b[33muser_proxy\u001b[0m (to chat_manager):\n",
      "\n",
      "exitcode: 1 (execution failed)\n",
      "Code output: \n",
      "npm WARN deprecated @babel/plugin-proposal-optional-catch-binding@7.18.6: This proposal has been merged to the ECMAScript standard and thus this plugin is no longer maintained. Please use @babel/plugin-transform-optional-catch-binding instead.\n",
      "npm WARN deprecated @babel/plugin-proposal-numeric-separator@7.18.6: This proposal has been merged to the ECMAScript standard and thus this plugin is no longer maintained. Please use @babel/plugin-transform-numeric-separator instead.\n",
      "npm WARN deprecated @babel/plugin-proposal-class-properties@7.18.6: This proposal has been merged to the ECMAScript standard and thus this plugin is no longer maintained. Please use @babel/plugin-transform-class-properties instead.\n",
      "npm WARN deprecated @babel/plugin-proposal-nullish-coalescing-operator@7.18.6: This proposal has been merged to the ECMAScript standard and thus this plugin is no longer maintained. Please use @babel/plugin-transform-nullish-coalescing-operator instead.\n",
      "npm WARN deprecated @babel/plugin-proposal-async-generator-functions@7.20.7: This proposal has been merged to the ECMAScript standard and thus this plugin is no longer maintained. Please use @babel/plugin-transform-async-generator-functions instead.\n",
      "npm WARN deprecated @babel/plugin-proposal-optional-chaining@7.21.0: This proposal has been merged to the ECMAScript standard and thus this plugin is no longer maintained. Please use @babel/plugin-transform-optional-chaining instead.\n",
      "npm WARN deprecated @babel/plugin-proposal-object-rest-spread@7.20.7: This proposal has been merged to the ECMAScript standard and thus this plugin is no longer maintained. Please use @babel/plugin-transform-object-rest-spread instead.\n",
      "npm WARN deprecated uglify-es@3.3.9: support for ECMAScript is superseded by `uglify-js` as of v3.13.0\n",
      "/opt/homebrew/lib/node_modules/react-native-cli/index.js:302\n",
      "  cli.init(root, projectName);\n",
      "      ^\n",
      "\n",
      "TypeError: cli.init is not a function\n",
      "    at run (/opt/homebrew/lib/node_modules/\u001b[4mreact-native-cli\u001b[24m/index.js:302:7)\n",
      "    at createProject (/opt/homebrew/lib/node_modules/\u001b[4mreact-native-cli\u001b[24m/index.js:249:3)\n",
      "    at init (/opt/homebrew/lib/node_modules/\u001b[4mreact-native-cli\u001b[24m/index.js:200:5)\n",
      "    at Object.<anonymous> (/opt/homebrew/lib/node_modules/\u001b[4mreact-native-cli\u001b[24m/index.js:153:7)\n",
      "\u001b[90m    at Module._compile (node:internal/modules/cjs/loader:1241:14)\u001b[39m\n",
      "\u001b[90m    at Module._extensions..js (node:internal/modules/cjs/loader:1295:10)\u001b[39m\n",
      "\u001b[90m    at Module.load (node:internal/modules/cjs/loader:1091:32)\u001b[39m\n",
      "\u001b[90m    at Module._load (node:internal/modules/cjs/loader:938:12)\u001b[39m\n",
      "\u001b[90m    at Function.executeUserEntryPoint [as runMain] (node:internal/modules/run_main:83:12)\u001b[39m\n",
      "\u001b[90m    at node:internal/main/run_main_module:23:47\u001b[39m\n",
      "\n",
      "Node.js v20.6.0\n",
      "\n",
      "\n",
      "--------------------------------------------------------------------------------\n"
     ]
    },
    {
     "name": "stderr",
     "output_type": "stream",
     "text": [
      "GroupChat is underpopulated with 2 agents. Direct communication would be more efficient.\n"
     ]
    },
    {
     "name": "stdout",
     "output_type": "stream",
     "text": [
      "[autogen.oai.completion: 11-18 13:14:33] {788} WARNING - Completion was provided with a config_list, but the list was empty. Adopting default OpenAI behavior, which reads from the 'model' parameter instead.\n",
      "[autogen.oai.completion: 11-18 13:14:35] {788} WARNING - Completion was provided with a config_list, but the list was empty. Adopting default OpenAI behavior, which reads from the 'model' parameter instead.\n",
      "\u001b[33mAssistant\u001b[0m (to chat_manager):\n",
      "\n",
      "It seems like there's an issue with the React Native CLI. The error message suggests that the `cli.init` function is not found. This could be due to a number of reasons such as an outdated version of the CLI or a conflict with another package.\n",
      "\n",
      "Here are a few things you can try to resolve this issue:\n",
      "\n",
      "1. **Update the React Native CLI**: You can update the CLI to the latest version by running the following command:\n",
      "\n",
      "```bash\n",
      "npm install -g react-native-cli\n",
      "```\n",
      "\n",
      "2. **Use npx**: Instead of installing the CLI globally, you can use npx to run the command. This will ensure that you're always using the latest version of the CLI. Here's how you can initialize a new project with npx:\n",
      "\n",
      "```bash\n",
      "npx react-native init HabitTracker\n",
      "```\n",
      "\n",
      "3. **Check for conflicts**: If you have the `react-native` package installed globally, it might conflict with the `react-native-cli` package. You can check if this is the case by running `npm list -g --depth=0`. If the `react-native` package is listed, you can remove it by running `npm uninstall -g react-native`.\n",
      "\n",
      "4. **Reinstall Node.js and npm**: If none of the above solutions work, there might be an issue with your Node.js or npm installation. In this case, you can try reinstalling Node.js and npm. You can download the latest version of Node.js from the [official website](https://nodejs.org/).\n",
      "\n",
      "After trying these solutions, you should be able to initialize a new React Native project without any issues.\n",
      "\n",
      "--------------------------------------------------------------------------------\n"
     ]
    },
    {
     "name": "stderr",
     "output_type": "stream",
     "text": [
      "GroupChat is underpopulated with 2 agents. Direct communication would be more efficient.\n"
     ]
    },
    {
     "name": "stdout",
     "output_type": "stream",
     "text": [
      "[autogen.oai.completion: 11-18 13:14:58] {788} WARNING - Completion was provided with a config_list, but the list was empty. Adopting default OpenAI behavior, which reads from the 'model' parameter instead.\n",
      "\u001b[31m\n",
      ">>>>>>>> EXECUTING CODE BLOCK 0 (inferred language is bash)...\u001b[0m\n"
     ]
    },
    {
     "name": "stderr",
     "output_type": "stream",
     "text": [
      "execute_code was called without specifying a value for use_docker. Since the python docker package is not available, code will be run natively. Note: this fallback behavior is subject to change\n"
     ]
    },
    {
     "name": "stdout",
     "output_type": "stream",
     "text": [
      "\u001b[31m\n",
      ">>>>>>>> EXECUTING CODE BLOCK 1 (inferred language is bash)...\u001b[0m\n"
     ]
    },
    {
     "name": "stderr",
     "output_type": "stream",
     "text": [
      "execute_code was called without specifying a value for use_docker. Since the python docker package is not available, code will be run natively. Note: this fallback behavior is subject to change\n"
     ]
    }
   ],
   "source": [
    "# user_proxy.initiate_chat(\n",
    "#     coder,\n",
    "#     message=\"\"\"Upload /Users/serkanhaytac/experimental-projects/autogen-habittracker/app_screenshot.jpg\n",
    "#     image using send_image_to_api registered function. Once image is uploaded, come up with a plan to create a habit tracker app.\n",
    "#     App should be react native app that has the ability to keep track of habits\"\n",
    "#     \"\"\"\n",
    "# )\n",
    "groupchat = autogen.GroupChat(agents=[user_proxy, coder], messages=[], max_round=12)\n",
    "manager = autogen.GroupChatManager(groupchat=groupchat, llm_config=llm_config)\n",
    "user_proxy.initiate_chat(manager, message=\"\"\"Upload /Users/serkanhaytac/experimental-projects/autogen-habittracker/app_screenshot.jpg\n",
    "image using send_image_to_api registered function. Once image is uploaded, come up with a plan to create a habit tracker app.\n",
    "App should be react native app that has the ability to keep track of habits. Start building the app\"\"\")\n"
   ]
  },
  {
   "cell_type": "code",
   "execution_count": null,
   "metadata": {},
   "outputs": [],
   "source": []
  }
 ],
 "metadata": {
  "kernelspec": {
   "display_name": "Python 3 (ipykernel)",
   "language": "python",
   "name": "python3"
  },
  "language_info": {
   "codemirror_mode": {
    "name": "ipython",
    "version": 3
   },
   "file_extension": ".py",
   "mimetype": "text/x-python",
   "name": "python",
   "nbconvert_exporter": "python",
   "pygments_lexer": "ipython3",
   "version": "3.11.6"
  }
 },
 "nbformat": 4,
 "nbformat_minor": 4
}
